{
  "nbformat": 4,
  "nbformat_minor": 0,
  "metadata": {
    "colab": {
      "name": "Universal_adversarial_perturbations___v1.ipynb",
      "provenance": [],
      "collapsed_sections": []
    },
    "kernelspec": {
      "name": "python3",
      "display_name": "Python 3"
    },
    "language_info": {
      "name": "python"
    }
  },
  "cells": [
    {
      "cell_type": "markdown",
      "source": [
        "D'abord on va entrainer un classificateur des images en utilisant le dataset FashionMinst .\n"
      ],
      "metadata": {
        "id": "krWZfUTr-5hM"
      }
    },
    {
      "cell_type": "markdown",
      "source": [
        "Préparer les données :"
      ],
      "metadata": {
        "id": "F70qr0dIBr9m"
      }
    },
    {
      "cell_type": "code",
      "execution_count": null,
      "metadata": {
        "id": "E7iyjmRtzgGX"
      },
      "outputs": [],
      "source": [
        "import torch\n",
        "import torchvision\n",
        "import torchvision.transforms as transforms\n",
        "\n",
        "from torch.utils.tensorboard import SummaryWriter\n",
        "from datetime import datetime\n",
        "\n",
        "\n",
        "transform = transforms.Compose(\n",
        "    [transforms.ToTensor(),\n",
        "    transforms.Normalize((0.5,), (0.5,))])\n",
        "\n",
        "trainset = torchvision.datasets.FashionMNIST('./data', train=True, transform=transform, download=True)\n",
        "testset = torchvision.datasets.FashionMNIST('./data', train=False, transform=transform, download=True)\n",
        "\n",
        "trainloader = torch.utils.data.DataLoader(trainset, batch_size=32, shuffle=True, num_workers=2)\n",
        "testloader= torch.utils.data.DataLoader(testset, batch_size=4, shuffle=False, num_workers=2)\n",
        "\n",
        "classes = ('T-shirt/top', 'Trouser', 'Pullover', 'Dress', 'Coat',\n",
        "        'Sandal', 'Shirt', 'Sneaker', 'Bag', 'Ankle Boot')"
      ]
    },
    {
      "cell_type": "markdown",
      "source": [
        "L'architecture du classificateur"
      ],
      "metadata": {
        "id": "s4cXDc2qBw6t"
      }
    },
    {
      "cell_type": "code",
      "source": [
        "import torch.nn as nn\n",
        "import torch.nn.functional as F\n",
        "\n",
        "device = torch.device(\"cuda:0\" if torch.cuda.is_available() else \"cpu\")\n",
        "\n",
        "class Classifier(nn.Module):\n",
        "    def __init__(self):\n",
        "        super(Classifier, self).__init__()\n",
        "        self.conv1 = nn.Conv2d(1, 6, 5)\n",
        "        self.pool = nn.MaxPool2d(2, 2)\n",
        "        self.conv2 = nn.Conv2d(6, 16, 5)\n",
        "        self.fc1 = nn.Linear(16 * 4 * 4, 120)\n",
        "        self.fc2 = nn.Linear(120, 84)\n",
        "        self.fc3 = nn.Linear(84, 10)\n",
        "\n",
        "    def forward(self, x):\n",
        "        x = self.pool(F.relu(self.conv1(x)))\n",
        "        x = self.pool(F.relu(self.conv2(x)))\n",
        "        x = x.view(-1, 16 * 4 * 4) #flatten\n",
        "        x = F.relu(self.fc1(x))\n",
        "        x = F.relu(self.fc2(x))\n",
        "        x = self.fc3(x)\n",
        "        return x"
      ],
      "metadata": {
        "id": "C7yxvwN9dij4"
      },
      "execution_count": null,
      "outputs": []
    },
    {
      "cell_type": "markdown",
      "source": [
        "State pour enregistrer l'état de modele lors de l'entrainement :"
      ],
      "metadata": {
        "id": "iJtWeec_B0aD"
      }
    },
    {
      "cell_type": "code",
      "source": [
        "class State:\n",
        "    def __init__(self, model, optim):\n",
        "        self.model = model\n",
        "        self.optimizer = optim\n",
        "        self.epoch, self.iteration = 0, 0"
      ],
      "metadata": {
        "id": "tgpk44tUmGNZ"
      },
      "execution_count": null,
      "outputs": []
    },
    {
      "cell_type": "markdown",
      "source": [
        "itération d'entraînement :"
      ],
      "metadata": {
        "id": "lwUNpHynB4nz"
      }
    },
    {
      "cell_type": "code",
      "source": [
        "def train_loop(dataloader, model, optimizer):\n",
        "    train_loss, train_acc = 0, 0\n",
        "    for batch, (X, y) in enumerate(dataloader):\n",
        "        X = X.to(device)\n",
        "        y = y.to(device)\n",
        "        yhat = model(X)\n",
        "        L = nn.CrossEntropyLoss()\n",
        "        loss = L(yhat, y)\n",
        "        optimizer.zero_grad()\n",
        "        loss.backward()\n",
        "        optimizer.step()\n",
        "        train_loss += loss.item()\n",
        "        _, pred = torch.max(yhat, 1)\n",
        "        train_acc += (torch.sum( pred == y) / dataloader.batch_size).item()\n",
        "    return train_loss / len(dataloader), train_acc / len(dataloader)"
      ],
      "metadata": {
        "id": "GFnCvICAgHwT"
      },
      "execution_count": null,
      "outputs": []
    },
    {
      "cell_type": "markdown",
      "source": [
        "itération de test :"
      ],
      "metadata": {
        "id": "iinrSts0B9G-"
      }
    },
    {
      "cell_type": "code",
      "source": [
        "def test_loop(dataloader, model):\n",
        "    test_loss, test_acc = 0, 0\n",
        "    with torch.no_grad():\n",
        "        for batch, (X, y) in enumerate(dataloader):\n",
        "            X = X.to(device)\n",
        "            y = y.to(device)\n",
        "            yhat = model(X)\n",
        "            L = nn.CrossEntropyLoss()\n",
        "            loss = L(yhat, y)\n",
        "            test_loss += loss.item()\n",
        "            _, pred = torch.max(yhat, 1)\n",
        "            test_acc += (torch.sum( pred == y) / dataloader.batch_size).item()\n",
        "    return test_loss / len(dataloader), test_acc / len(dataloader)"
      ],
      "metadata": {
        "id": "WLcWQupKh-4H"
      },
      "execution_count": null,
      "outputs": []
    },
    {
      "cell_type": "markdown",
      "source": [
        "la fonction d'entraînement de modèle"
      ],
      "metadata": {
        "id": "M8Ab6wC5B_lk"
      }
    },
    {
      "cell_type": "code",
      "source": [
        "def train(data_train, data_test, save_path, Model, tensorboard_name, iterations=500):\n",
        "    if save_path.is_file():\n",
        "        with save_path.open('rb') as fp:\n",
        "            state = torch.load(fp)\n",
        "    else :\n",
        "        model = Model()\n",
        "        optimizer = torch.optim.Adam(model.parameters(), lr=0.001)\n",
        "        state = State(model, optimizer)\n",
        "    for epoch in range(state.epoch, iterations):\n",
        "        loss_train, acc_train = train_loop(data_train, state.model, state.optimizer)\n",
        "        with save_path.open(\"wb\") as fp:\n",
        "            state.epoch = epoch + 1\n",
        "            torch.save(state, fp)\n",
        "        loss_test, acc_test = test_loop(data_test, state.model)\n",
        "        writer.add_scalar(tensorboard_name+'/train', loss_train, epoch)\n",
        "        writer.add_scalar(tensorboard_name+'/test', loss_test, epoch)         \n",
        "        print('Epoch:', epoch , 'Loss train: ',loss_train, ' Acc train: ', acc_train,'Loss test: ',loss_test, ' Acc test: ', acc_test, '\\n\\n')\n",
        "    print(\"Done!\")\n",
        "    return state.model"
      ],
      "metadata": {
        "id": "0Z52IwrWjZ1u"
      },
      "execution_count": null,
      "outputs": []
    },
    {
      "cell_type": "code",
      "source": [
        "from pathlib import Path\n",
        "import datetime\n",
        "\n",
        "savepath1 = Path('./model.pt')\n",
        "writer = SummaryWriter(\"runs/runs\"+datetime.datetime.now().strftime(\"%Y%m%d-%H%M%S\"))\n",
        "model1 = train(trainloader, testloader, savepath1, Classifier, \"Classifier\" ,iterations=10)"
      ],
      "metadata": {
        "colab": {
          "base_uri": "https://localhost:8080/"
        },
        "id": "853KGELYmNOM",
        "outputId": "abb73d2c-f084-412b-9bc3-d0b288f78879"
      },
      "execution_count": null,
      "outputs": [
        {
          "output_type": "stream",
          "name": "stdout",
          "text": [
            "Done!\n"
          ]
        }
      ]
    },
    {
      "cell_type": "markdown",
      "source": [
        "**Perturbations :**\n",
        "\n",
        "nous allons maintenant procéder à la perturbation du modèle entrainé."
      ],
      "metadata": {
        "id": "jdazeA5KCEZy"
      }
    },
    {
      "cell_type": "markdown",
      "source": [
        "Fonction de projection :\n",
        "\n",
        "Pour s'assurer que la contrainte ≤ ξ est satisfaite, la perturbation universelle actualisée est en outre projetée sur la boule lp de rayon xi et centrée sur 0.\n",
        "\n",
        "![Projection.PNG](data:image/png;base64,iVBORw0KGgoAAAANSUhEUgAAAWgAAAAwCAYAAAA8T+D7AAAAAXNSR0IArs4c6QAAAARnQU1BAACxjwv8YQUAAAAJcEhZcwAAEnQAABJ0Ad5mH3gAACCbSURBVHhe7Z2He1TVuv9//8J97rnnHtQrtnOsWI94BUUBEVGkChYEjwiCgCCINCmhSw2dAAktIQmEkgCBJARILwPpvfc6aTOZmUz//NaeTEI6CQRP4O4Pz34e2GXW3utd67ve911rb/4fMjIyMjJ9ElmgZWRkZPooskDLyMjI9FFkgZaRkZHpo8gCLSMjI9NHkQVaRkZGpo8iC7SMjIxMH0UWaBkZGZk+iizQMjIyMn0UWaBlZGRk+iiyQMvIyMj0UWSBlpGRkemjyAIt838DfR5hvmHkqA2YrfZ9Mn0fYbfwK+HkqPT/J+328Ai0roD0PBXGblrJXJ5Fdo1J7owPAm02SenVGEyicq01pCXlYTKZ7Qf7JvVBDowaMpOj6TU0WOw7tTn25xA7mp7D2Lef42EiJzmTar0RC1Zq0pPJ0xiRmkxP0ASvY/QHM3FJrUbXwm7JGdXojY12S0/Ow2g02Q8+WvRcoE0qijPiiQ4OJMDPDz8/fwKDI4nLqkD3oNSwIYvLh49xM0+NZJPuYFUlcWa/K5Fluh43ikcXq2jIRqz3WR/mLBdW7YmiRis6hfEWjmtOolHr7Ef7IjpCfx/ES2O3E1musbcHs3iOo6zeE0m1EA6Mt9nl4Eq96s9/DoummKz8auF8dNa4GyhLSya/9uHy/o85OBGpFH3WauT2nnW4isFR06PxT0fYqvd5Zdw2wkvrm/uxOfsYa/ZGolSLtizstmedK6paTePBPoBVlUFafgO9MWZ0W6Ct9VkEuu5l24bV/PrtCAa+M4ppP89n3uzpfDNmGO/+7wd89u0SDoUUoetVRdQQ77KWHT6JlGrNQmK6iUVDccQR1m6/SoHogN3U9Uea+ghH/jX+W7aHVCFp671iStrGjNXXqawXHcQQzO+zdqGu09qP9kH0kTh8OIgf3VOp0je1BBOm5O3MXBNIhdogniOElT/t/nM7uqWaFN89zB83jLEO1yiX6tN+qCXWyossHTWUbxztg+JDws7ZGwksq0NvNRCyeg674ytR9+T29VGsH/4es9ySUTaHPcJyyTuZ5RBIWZ3eZrfVc/dQW6W2H30QNFAa68dVRQlaw92VxJxzGme3YIJCFCQW1GK4j1G1WwJtrYpg38LF7L2iICExDo/ZA/jPAT/iFhlLYlICsdFBeB9YxKiXnuS5wQu5UKARo6b94vvElOXKrwsPoSjT9th7sDYU4v37LLbcLOvlQePhRJ9wjAXT5uMSW0vDfUTyD5tAG29v5rMxDgTmS96cfWdfEGghXHUF3vz8xn/x/IyzFEqCYz/UCn0Wfof24hFViq43Opa1hoz0YvRdpHOsNRmkF+uFV2/fcQ/cr0AbY7YwZpwDAbl1tNTF9gK9+8EItEVFXpiniKyWs2qrM34p1TR0pSNWLdn+B1m7ZDG/O2zij21b2Ol5iyptxwNvd+iGQJvIcF/G3A1eJCsbhEhq8J75LI+N2UeWqqlBWTGoiojcNJK//cc7rAyrRtcrqbwGFFu+Yc7JdGqbPZ+eYKEmaBVfzj9DnuiE9/ILjxJWnZL87HyUIhKx3Ec/f7gE2kjCjinMPBJHRasIrA8ItIQxmjWD+/HizC4EGjO6ulrqhUrdh9nsGCn0Xc2PmwIol57bvrcVxkJ8V//IpoBy1IZ7L/H+BNpIouM0Zh2JoUxjanWfD1ygjUpSAo6xZeUK1joe52LwLRKzSqgVXk3n6UETBRdX8sXoH9juE01KVjY5uWIrkTzoe1eebgi0FXVhGuklKoxSrzZns+uTfry24CqVbcItldd3PP3sZJwz1a1GvHvGqGD9p9/ilFZ3Z2KnCWMlaVGRJJcIz9p+TF+RQVqJRvz7Ti1a63yZP3wWnvkq7qOtdRtTbRZR10U4FBBCUumde5MGG2VeCnFRYcTk1KGryiEm4jY5NXfyisbqPOIjQohIKROhVA2ZEf5c9I+hVG+6M7gYayhITUARHkV6pQF9dS4xYcGEJxSiMkkd2Eh1dgxhweEkFqkxNdWFWUVxeiK3IsJJLtWL/QZqCtJIUIQTlV6JQV9NbkwYQWHxFKhEeV3UVZcCLeySHh0l7KJpLltfkSnaTz2mB5VA7bJMDTGnTxJcXN+mTfayQBsriAvwweeiN+cuXCQwvpQGg5pCxRXOuJ3kTHAOGoORiuTreHu4ctLzJlkaYXtDk0CfJi7UmxN7HdntcoHoIu2d+RZTHfkKXy4EZ6MzNHk+DRQrLuF6wJFdh9y5lqJs5d1Z6jIIOu/OCedDOHveIL1Kcq6EON9wZPqg/vQfNh9HJ3dC8jRCQOwXSQhxvuE4nUH9+zNsviNO7iHkSfcpDunLEwn0Po2rsxNH3C4RLfpUV5P2dxVoIYQZCmE3YZum39FXZpEh7GYUdos940pwkYq2vtmDEmirtphb3gdYv3wlm/Z74B8eQ0qeNEh1Y2A0JrFvwsu8Pf0kieW6Xpsr6PkkodqHH//Rn4mHslDpW9yFtZIrC4Yz6vfL5IqO26ZO7wlzzn7GjVhFiFIrulMLzCWEnTtPcMQRFk7fTWS1ThxXc231aIbPdbMtpWou31KKy6T3Wexfgaaz8NCsFQauorKykoqKis43ZRW1YlDqbBQ15V5iz56zRKbnkZfsz+7FC3EMyBXliruxVpHg68KKSUP42sGZY24XOThvJJ+t8qVWo0cZ7sSKNUfwj44h5NQGFizYglf0TZxW7uZmpeis9jKtqjSunVzL1KGjWX7Ei1M+wdyOj+b8+pnMORjATW8vroTGkRDlwcrv53JYUdXYcRtyCHbbwHfDhrPkYjn1+jrSrp1k7dShjF5+BK9TPgTfjif6/HpmzNpLWEXnk6udCrSwS/j5CwSHH2HRD7uJsNlNTaDDGD6a60pmXUPvRzFSmRfulBkuyjTayhzLiLknRZkaVNU1IqJr28l6U6AbSDyygKUuEaTmFJB6eR3zt4egrNehLQ9k7ei3GLLImxIRcTbUFRHgMJq3Bv2MV7EQH7tAPzXkW35ZuppVv37PqHde452xKzifIcRNU8itcxuZNuQNhi69ilLcq5SiiHb5g91nQ4hLUnBx4xSGjZyJk0JpS+Vp08+zeeU2MSgkkZHqz8bJHzBq3nESaurF4H2O+f/8K0+N34pfWBwFdcbWYmKuI/vcfP7516cYv9WPsLgC6oxm1MkeLPtpOS7XE0jPiMd/9yzGjJnN/tAStJ30qy4F2lxKhLe3zW6/ztxDWLkQZaua6+snMHLucdKq6zuxW+8LtEWVTYi7I6uXr2Gb83luRMWTUVglnqsHEYuwo8P7T/LhqlBKhYPTW/RYoI0xaxn0xDA23mqRxjBXE+u+jkWrnbkpvEObp91jTO1mPQ2Bv/DGuD1ktOnY2mg3nP0zKVFsZvjLP3BajLgG4R0UXfiJd6Tza1ue30DgLwOZ7CQGlHZueCMNaZfYv30LGzduZMOGDZ1vmzaz52JqCy+mJRZK3L7j1TeEty481wZ9DYm7J/P25D3E1kjeiwF1RQ7u01/kuRG/czYhj4QLjuw8l4y2Po69Xwxk0vZoCmuEoOS5MePN/2WhTzZZKblUifKa79xULzzxS/zy1tOi07ujyKlArdNQ4jmDN9+awNqzseQpNejqC3D5+hVGbgpHKUU6Fi3VBVf4deDf+c6tWNSFkXplPpcW/pNnhizCXZEjhEqHpsSTGW8NZfX1cjGw2MtsQ2cCrVWcwkXYpVjxByMGzMCzUAiQ1USR91zenbCH1Cptrwu0VOZR/wxbmR+/OgOPAkkQRJk+cxk0YXcXZfaiQFvycZ48gFEbQikRlWasCueEp0IM5qJ+TPFsHvYYf5/mRmGtlMIwkfTHcB7r/zXH8muFly0J9N94cvQG/BQpZGenEnpItKN+TzFsXRDlKhVVeeeY89pfeWnWeSrqDBhTnPh24mJOBsWTlZ9LytVlDOn3GO8uC6C0Lg232Z8xfVcw2dXCUbGoiXH6kfEzDhAt2oVBH8OmoY/x/L9OkSP+3X4QtqCP2cTQx57nX6dyUErpBXMObj8OYug8D5Js3qGJ+oKrLPngOQZM3ElUpfgd+9Ut6Uqgtbc8OBaQLiKMrYx6fQancmtoEL9bfHE+70/cTVKFiIQbT21H7wq0mSK/TUwbO5kFO86hyK2yrUbrsYJZ64h1msbQUTNY5rCFXbu2c+BSGnUN9yfWPRRoM7kHx9D/n4vwTYoh/IYvZ08cwHHnHlzO3yA2pxr9Pfr2ZiEe5wIyyC6qFSFN429ozkzjhW+OU6iWGnYTVmoTwokXHS9x92gGjN1NvCSA4oil8hRLVvlTKTrJnfMNKNa8z8jNMdR1khg3q0rIzkgnLTWV1K62tDSySlStUih3sKLLDeLsuQjhlVSSl3KbmzvG8/SAeVwqk7wD6RwDN399necmH7Z5kwZ1FVUq0YkaAvhlwNN8c6ygMSrRB/HbG8/w9dH81lFKE8bbrHuvP6N3JlFlXxxqCFnKW89M5EBa0zrfBnznvMTrP1+kVBJSaZcQi00fviA6nhBo2+8aiVn/Pk+N3kGiUtcoZIZQlr79CjNPN53Tns4EujYhgnjR6RP3jOG1cbuIrRKdWZxvUbqzbLW/EJv2Oc/y2xdxdz3G0aNHO9+OncD7VqnwDttKrdQWIkiQytw7ltdFmTGiXTSXuabjMhu5i0BbNeRHXuGClzvHDrlwLqoAdWceleicQauG8uIrH/DlEicCM8soq1Q3thNTMttGCIH+7o5Ap23/mMef+qaFQPfjH997km/PQZuUV1n4z//ivz/ZSYI0wBgUOIhzXpktCbSOLKfxPP/+DLYddObEyZOcdNnByl/m85tTGOXJTkx+4UNWBpWK+228W31VLqmZJaiEJywNGH8Me5wXpntSYLuf9pji/2DY4y8w3bOAWtEGLMVuTP1HPz7dkSwGe7sNhLcb9vt79Hv8M3bGVXa4fK5zgbZSlxgp7FZP4r4JvDV+JwohyNIhi9KT3x38KO3k3iR6V6BFxFGewe2gi7ju3cDvKzZy+FIcpcKpadvausKqSubs9rVsO3kRXx9vvH18CUsXethZGNpNeibQlmJcv36O137cy8l9ezjg4sY5/3DiUjIorJa8RPt5PcJISdhRNq9ayer123Dcd5444SVIv6Xx/JZ/TDlBUSuBFgbSakVomITjqFeYsDeBGrtnbEo9zl7vYjStko0GolYNZsRGRacC3VtYaxPw2u7Ahj0nuRh0m3jXH3jxpVmcL5U8fOkMA0G/vsHr83woaxJNCUspV355nw8X+5InnlWVsIOJH87gWHwnqy2MMax/72m+chHhZ0PjrxjClvP2899zSgqbbbv0XJ33Mq/OuUCpJEDSLkmgh7YX6Ge+chbi0NB4jiGc5QNfZLp7UY8FutEuyez67FUm7olDaa9vU+oJ9vsUUd9BBFOXHck1P18uX77c+eZ7lfDMjpcrNZW5e/RroszYbpXZSFcCbaU69JjoqLGkZ+eSdVuE919PY9uN0k7SZBbhUYbgsmQCA194ntc//Jo1IjKq0UuC2D2BbjVJaC7Aadzj/OXDdcQI79RsuMXaZoGuJ3TFQB4fuoKr8enkFRZS2LRVqNGGLGfgY0NYGVre8YTcPQi0WdTTiMf+wkd/JAjnp6k+rZS6TOLJvwxiRUhZh2V15UE32W3P2Df5Ytctyu0Kb0pz5eDFQlTNb6W050HkoK0mDcqCdBIV1zl3ZBurV6xl9+lwcruz9tyqJFiIu5NfHHk1IpKsV6NS1dtSi3e79G70SKCtlV58/8KrzPJKIyczl4LicqqFoLR7AGsDGim8k/abdOiEOnV2o5bi8ywaNxPHgDjSMrPIyi6m1u6pNFydy2tfHCRHZRePFlgKXfji+VFsi2tKtehJcj+MX6G2zWSQnuuL3mLc3vTOUxwpF3DcuJZVK1eysqtt1Wq2XUjpOMUhjHRt7Tg+nbWPa/HZlNbUU+c3nwEvz+Z8cT6ZedWYzQ1CoN/krV+u2Na83kFH+D4HHE8c55TXWbw8TnE+OJ1KadbYfkYrJIF+X/KwhUDbRdQm0C9Mx6ONQA+4q0AP4Zmvjwqv//4FWsJSeJTJL37K1hgl2ia7eDrjV1DfbrJHwmLQolarRIPuetNIYtfx7Ygyj/HlS5+x9Xb3ymykK4E2kbhzIqPXXW8cSI0lnJj6Ch+tDaaqvgMlstaSk10kOngKURf3Mn/kKzw3cC4eOcIWxvYCnbpNEuiWKY42Am3JY//nT/LyDE8hEGKfsaVAa4jd+AGPPTuRg4kiHG9+PjPlcXFkRa1lSL8n+fiPCCo0d+5VX5BBrlBHk7FRoJ+/q0A/3yzQ1nJXpjz3n+IZPMhpvsZC/sFxPPnMJJzSWt7HHe42SWgpOsE3A0azJbqcxmrVk3z6KP75qi6XgXYt0Fb0QvyNorFIda3TCdt2vvSiPaKP1pZkkxITyuWTu1m/YhVbjweQUtnQ6ZyMucCd+fP2c7tY3ek590oPBNpCmdd0Xn5TCE5+U8jeAdZqoqWZ3j8Ws3LXUdx9bxDgvg+na/m2pHtbjDHrGTLwF3xL1Ig+2ApT2nY+GbGOyOrGsLUl5tStfPTydDxt+WdxbtF1TngoKNO1XpIj3Y/71HeZ51NKfSc3ba4rIi05kYSEhLtuqYV1Hac4DGGseudxRmxu8hwtlLpN4bkXZuCVH4T72UT0ei03Fr3Omwt82wh0HReWz2P/tXAUcYkkZxTaooLOqlhKcawdbPegmwQ6dJnNg3ZvIdBX5r7EgJ/aCHSbFMftde8JD9qlhUCHsvxtIdCn7k2gzanb+XjAD7jb8s+NdjnpGS1Cxgf3spBU5kipTFv+WZRZfANXUaaUD+68zK49aFVuDLcylSJEFb9gymLv5wOYdCCemo6iMHMmJ7a7kibqwKivpeD6Cj54eiy7ksSAYcwX3vD/8PiITSjKNRg12ZyZ/SZ/+ds4nLJr0OkbBfqFGV7NAm0pPs0Pg0exyjcHleRttBJoPXXXl/Juvyd467vt+NwWbUCjJP3aEXYeC6ek7Carhz5Bv5fHstI1lPTSSgpifXBy8rXNzZjNaTh+8gT9Jx0mq0ZFTW19u/ZsTnPkkyf6M+lwFjWqGmprcznz45s8/uJUjklrgaVKtVZyYfZA3p3tRpIUPTde2oq7CbQ5bSefvv4Dbrb8s2S3m7idjqa4vuslsZ0LtJWaW5c5e2oLS1bvwvnUZQL9PThwOMDm5HV0j50i7lldkUdaQhQBp51sEf5e/1zRJ9rfmTF8FUNHr+OmtKqldVXeQQzicWcc2XEqEpXWYN95d7ov0JZC3L59mUGLrlLYZl1iK9SR+HjHcG7eYMZtvk5yfhklNx0YO/0oGSp9u4q3ll5k8aRpLBbe6bqNe7iUIRqx/SSr5iZLh3/Hidwm0bmDVR3F9q++YPHJQMKCrnD2zGUUBfalgC0xRLLy4yk4SzPiXVn9frGU4Lvyc0ZM2cTpG1GEX/PmtOcuZgwawZwdf3Dg8m1CPA+wYOj/8MR7M9i4x5OoUjEq2+7JQNLB7xgx8nPGjh/PhPFjGD3mS2atOEBg7p36kLDWxHPpyDI+ffavvPnVWg5cSSM/8hyHFo2gf7+BTNtwmGsiEgnx3M+cIY/z+OAf2HzsJnmlMVx0XsHnf+/HwKkbcQ1NI/rCYZZ99iz//eZXOBy4Qlp+JOcO/cqIp/rxztQNHL6WQ0MHg2pXAi3ZZec3k1h8IoDQJrtIDbfDvH3vYFVHizIns1h4OiHNZd5tsvouOehmGsg8s4xpP23DL6v1CxPNmFJw/GYM87a5ERAWztX9PzP1V1filNKEWgMpztN487mX+XDcFGYtdeTI4qE8+Y/hzHEKIleVw5mFw3lt0NesOeDGaY/j7HJYwjrnILKblmC2Emhxr/XpeK34nFef/TuvvPUuH3w8QTyHM9fSpQFFQ17ADr5//3meffF1Bg7+iIlzNuMeWYBKikytKm6seI/+zw5myuKtnI4pb/cSl1V1gxXv9efZwVNYvPU0MWJgUab5sOm7z/h8hgOHTp/n9MF1LFi0lfMJ7a9v4m4CLdlt19SvWHzMj2Bht3PCbtF5d3/zrnOBrif68iVizi1g6BebuBorItmSIDZMmolzUsd58rtjRltVRGZyPGktlgO2xFJ6id8+GcSwSfPYePQqcdJ5bdueiIrcfxrKe/9yoqzKviS1G3RboK0Vvqz+fjHHY6q6ngg0VVNZmc7+sR+x/HoZGmE81aXZvPa5IymtVlcILJUEHz2A500F8YmJJCWnUyws2PxsYtQJWjaBeecK2i+Yt+ooT7tNVLSCuLRs8os6nn01xm9l8g9HSRWhWUd9q/cwoy5OISY2gUQRaiZl5FJQXkbOrXCiE9MpqlZTWZBFYnQIIZFxpGbm2zxtKfrSJhxn+W/bcBPRRkhoGKGhwdy85sOxlVMYv8yHAuFRND+XoYbi7GRuiXMiYlLIKhXhv7KQrCQFocERxKZmU65WU5GfSUJUY1lpuRVodNV3rotNJb9SRVVhNsm3QgmOiCElqxSV8MQKs5JQiHMixTnZZe29K4muBNpml/QYoiW7pGbZ7dKD5Ur3wj2V2R2B1pETcATHA55cTypAqRZtqKNw2VpPXlw0cUkpNtvHx8WTXFDT3E8MVVlE+Z3l9Hk/wmIzKUyJ5Eb4bZJyhWiY9FTnJRIdGkRQUKhoK6mkiH5QVNMidWhUCIF+jNfmXaJCJXlfZupLUrkV7MsZ11Oc9Q3idka5+K3GZ7Y2KMmJD8f/vDvu564SEpdLVUPTSiAr6gIFvl7eBCpSbGmOdt3ZqqZA4YuXdyCKFCnNIdqpRUtFVjy3oqOJjI4jJTWJ5GzRruxldsTdBFpKhVakxzbbLa9QRBxd/F4TnQu0iRqliCacJvPpCj/bt0us6isseGc8O8RAVH9PAt2E0JbObsysEk6SF7uWz+LLUR/w3rCxfL9kN5dTRWTQVLmijZamKIhKLOjyDc62dN+DbignK71QGOvuFWitPC1G8NmcLZReDqjmyoJhjN8eQaUkSLpiklOK0YoOZC5059elHmR3Kp5W6uP28dNCET524H1Lx40NGrRSA7LvaYW1juCNs1jjm2ebgf9zsGDQaW2ep+2erOI52/WAlpjJPvQlEzZGUFLfIjKx6KmJXssn43YQ10GK599JlwJto4Vd7tZYeo2mMjtfp96auwm0lpybnnhcDiUxrwZddZAQwhx0nSRHbXlOi8mW/2y2fQusQoh1DUab82E1m9uLYvO1HbRlYxSrB/Vn5OZbVLV0A63iGp3O5nG2u0ZgNjTQYOjIBhZRV9LLSh1dZcdipEF6QartKVKZd7vWzl0F2oYVU4/s1pVAC6xKzs36iLmns6gWelPj/xujJm0jqKjla/4tkb60F4rfZR+8vb272C5yM0VaZ96Jjpi1VBUJB0xxg7OHNvDzuPf5eNVVijtdRdQ9ejRJ2F00gYt4d/B0dnpf46r7XtZvPk5oQeOX6PRR2/lqzG945dfTUHaWOSMn8Msfx0U4UkR9Bw0bQxnB+1aw3S+/8YWPHqBJPMHqjWdIUvblb8kKjybOmSXzHTjsG0uRtOzOrKMy9QYn181l4cEIytvm1f/N3F2gHwa6EmgLxX5rmTRoAAPeHsLwER8z4sPBzHDJoa6L1QW9ihCaG44LWbr/Ojl57swYMold4aW2iPRhoXsC3XO6FGjtTZYN/ZDpW7246uvB/k1bOBaU0xgFNJ7RBgvVKTfwOXcaT0/PLjYvAhIrO0z5NSMi/oxbMWQX5RK6+Su+coykTN3JywTd5AEItLQyYDifrfEjNiWLnOwMsoqk3F1j9ViqMgjavQ+vEh16QxVpAa44rlnEzK/GM2HqUlzjxLmtnBQrDaUxXDjkhE9S978MZamIxM3JlcA05T2vzf7TMFSTmxJLVNA1/Hwvc+mSL1cCQoiOSSCrUtfJuut7x1wczOkrSeiE13IvmFJ2iA5yE6VNoIWwzd37cAp06k5+WnvDLtChrJq3t3mSUFuSRETQDa4HBhJo24JIKGmaM/gz0JLksYaf5y1h467dHDqroFB09l5uCg+UXXM3c10ItEEIdNia+exLVNpXa9wfptRdzJFW2Ej5eEMYDvP3UVvdKNDGuC18Nn41l6ISyMzJJiOryPYNja7MZtLWUqWstL1J3PmmpEaadO6y/g3U5scTdt0f30v+ROdLWnZ/ButlgRYNuyyMjSPf5vsTyVRoDe2XnRjzueHhR7roFJIOWw1qyhID8b7oy4kFE/n5rLSOud1F1BUJoZe+aNfNFmqtKyIjrwLNg85/9hpmGtTVVJSWUFxcQplSWmrUceh6f5hIPTiFiRtu2hrcvWCtT+NWUmXjCgeLkoSYTIz389mzfwuibpueQ/KKmp+jFxSkV7CirykiOz2VtKwC28tXD5M4S6TfTqFSSuuIP8rEWDLV+l5ZhiZNkt4WdrN5s8JuibFZGAwiytSWE7FlDIN+cCamSG17SeTPrjJpPXV1RRnl1dLk/v2X3ssCLQyRfpNzLkfwuCYEWsp/2Y80oyslM7fqTvJcQl8hjBmCn5c3EYXaTrwUKZfb1TjYBkvXo+ajjejc9dLyQ3sDNWpt30to/HsSu778is1BBZ28dNEdhPfZ3NOsff5/U+mcR+U5+iYm0528slX8vfdqt9FujT/daDfbFICIzkMuHMfZw5+EUt2fGO08OHo9xWHQ1FJbW0ONCBWb0hqtMBs7+MasCW2tksoqaVKxg2tkeoCG1Gtn8Tm2lt8OKajV6Ug8/BPzXRJQi1DPGO/IrKVnSbvnNz9lZPooBg11tbXU1Ng/zfoItO8HMkko829Eo+DihWhCt45j2LJAyuv1VN1Yzuxtt20L5MuuHuVUbAXa3og1ZWRkHiiyQD9qmKopr8jixNSPmX8h1/YmmkFxkN1XpG9MW2hQllPd8ut4MjIyfRZZoB9F9IEsGvIdJ7LraDDXEOl6guCSFh+Al5GReSiQBfpRxJSC0/fT2eTtj+95D85eT6e603WgMjIyfRVZoB9FrA2UpyeQlJpJdm4+ZaqHb4mWjIyMLNCPMFbMxjb/nZGMjMxDhSzQMjIyMn0UWaBlZGRk+iiyQMvIyMj0UWSBlpGRkemjyAItIyMj00eRBVpGRkamjyILtIyMjEwfRRZoGRkZmT6KLNAyMjIyfRL4/wiT/AcVd/SWAAAAAElFTkSuQmCC)\n"
      ],
      "metadata": {
        "id": "kSvvA800COoy"
      }
    },
    {
      "cell_type": "code",
      "source": [
        "import numpy as np\n",
        "\n",
        "def project_lp(v, xi, p):\n",
        "    if p == 2:\n",
        "        v = v * min(1, xi / np.linalg.norm(v.flatten(1)))\n",
        "    elif p == np.inf:\n",
        "        v = np.sign(v) * np.minimum(abs(v), xi)\n",
        "    return v"
      ],
      "metadata": {
        "id": "fvO2a59YZVmX"
      },
      "execution_count": null,
      "outputs": []
    },
    {
      "cell_type": "markdown",
      "source": [
        "Fooling rate :\n",
        "\n",
        "Plusieurs passages sur l'ensemble de données X sont effectués pour améliorer la qualité de la perturbation universelle. L'algorithme s'arrête lorsque le \"fooling_rate\" sur l'ensemble de données perturbé dépasse le seuil cible 1 - δ. \n",
        "\n",
        "\n",
        "![fooling_rate.PNG](data:image/png;base64,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)"
      ],
      "metadata": {
        "id": "wVWMrfJjCRDV"
      }
    },
    {
      "cell_type": "code",
      "source": [
        "batch_size = 32\n",
        "def get_fooling_rate(dataloader,v,model):    \n",
        "    fooled=0.0\n",
        "    for batch, (X, y) in enumerate(dataloader):\n",
        "        X = X.to(device)\n",
        "        _, pred = torch.max(model(X),1)\n",
        "        _, pert_pred = torch.max(model(X+v),1)\n",
        "        for i in range(len(pred)):\n",
        "          if(pred[i]!=pert_pred[i]):\n",
        "              fooled+=1\n",
        "    fooling_rate = fooled/(len(dataloader)*batch_size)\n",
        "    return fooling_rate"
      ],
      "metadata": {
        "id": "a_L5DE27ZXUv"
      },
      "execution_count": null,
      "outputs": []
    },
    {
      "cell_type": "markdown",
      "source": [
        "fonction qui trouve la perturbation minimale ∆vi qui envoie le point perturbé actuel, xi+v, à la frontière de décision du classifieur :"
      ],
      "metadata": {
        "id": "lp2Oh-UcCTQY"
      }
    },
    {
      "cell_type": "code",
      "source": [
        "#temporaire jusqu'a trouver une solution plus efficace\n",
        "\n",
        "def minimal_perturbation (x , classifier , v , max_iterations) :\n",
        "  x = torch.stack([x])\n",
        "  yhat = classifier(x)\n",
        "  _,ki = torch.max(yhat,1)\n",
        "  label = ki[0]\n",
        "  iter = 0\n",
        "  step = torch.full((1,1,28, 28), 1e-4).to(device) \n",
        "  r = torch.full((1,1,28, 28), 1e-4).to(device)\n",
        "  while ki == label  and iter < max_iterations:\n",
        "    tmp = x + v + r\n",
        "    tmp = tmp.float()\n",
        "    _,ki = torch.max(classifier(tmp),1)\n",
        "    r += step\n",
        "    iter+=1\n",
        "  return r , iter < max_iterations"
      ],
      "metadata": {
        "id": "1jPgrIRLZaYu"
      },
      "execution_count": null,
      "outputs": []
    },
    {
      "cell_type": "markdown",
      "source": [
        "Fonction de génération de perturbations :"
      ],
      "metadata": {
        "id": "sjDkFEy_ElKl"
      }
    },
    {
      "cell_type": "code",
      "source": [
        "def perturbation (dataloader , classifier , xi , delta , max_iterations ,max_iterations_min) :\n",
        "  v=torch.zeros([1,1,28,28])\n",
        "  fooling_rate = 0.0\n",
        "  iter = 0\n",
        "\n",
        "  while fooling_rate < 1-delta and iter < max_iterations:\n",
        "        for batch, (X, y) in enumerate(dataloader):\n",
        "            X = X.to(device)\n",
        "            _, pred = torch.max(classifier(X),1)\n",
        "            _, pert_pred = torch.max(classifier(X),1)\n",
        "            for i in range(len(pred)) :\n",
        "              if(pred[i]==pert_pred[i]):\n",
        "                  dr , b = minimal_perturbation (X[i] , classifier , v , max_iterations_min)\n",
        "                  if b :\n",
        "                    v = project_lp(v + dr,xi,np.inf)  \n",
        "        fooling_rate= get_fooling_rate(dataloader,v,classifier)\n",
        "        print(fooling_rate)\n",
        "        iter = iter + 1   \n",
        "  return v , fooling_rate"
      ],
      "metadata": {
        "id": "ipDon_KFZcVJ"
      },
      "execution_count": null,
      "outputs": []
    },
    {
      "cell_type": "code",
      "source": [
        "v , fooling_rate = perturbation (trainloader , model1 , 10 , 0.2 , 10 ,10)"
      ],
      "metadata": {
        "id": "ikkTvKMQzITN"
      },
      "execution_count": null,
      "outputs": []
    },
    {
      "cell_type": "code",
      "source": [
        "print(\"fooling rate obtenu est \" , fooling_rate)"
      ],
      "metadata": {
        "id": "5tE_TWe9Cl8Z"
      },
      "execution_count": null,
      "outputs": []
    },
    {
      "cell_type": "code",
      "source": [
        "import matplotlib.pyplot as plt\n",
        "\n",
        "def show_image(img, one_channel=False):\n",
        "    if one_channel:\n",
        "        img = img.mean(dim=0)\n",
        "    img = img / 2 + 0.5     # unnormalize\n",
        "    npimg = img.numpy()\n",
        "    if one_channel:\n",
        "        plt.imshow(npimg, cmap=\"Greys\")\n",
        "    else:\n",
        "        plt.imshow(np.transpose(npimg, (1, 2, 0)))"
      ],
      "metadata": {
        "id": "d4Pt-djVG_3U"
      },
      "execution_count": null,
      "outputs": []
    },
    {
      "cell_type": "markdown",
      "source": [
        "Afficher quelque images et ses labels avant perturbation :"
      ],
      "metadata": {
        "id": "5VtGT-QOH6Se"
      }
    },
    {
      "cell_type": "code",
      "source": [
        "dataiter = iter(trainloader)\n",
        "images, labels = dataiter.next()\n",
        "images = images[:5]\n",
        "_, labels = torch.max(model1(images),1)\n",
        "show_image(torchvision.utils.make_grid(images))\n",
        "print(' '.join('%5s' % classes[labels[j]] for j in range(5)))"
      ],
      "metadata": {
        "id": "SXCf8FA_HZPN"
      },
      "execution_count": null,
      "outputs": []
    },
    {
      "cell_type": "markdown",
      "source": [
        "Afficher les memes images et ses labels aprés perturbation :"
      ],
      "metadata": {
        "id": "t108DWMtII6n"
      }
    },
    {
      "cell_type": "code",
      "source": [
        "pert_images = torch.zeros(images.shape)\n",
        "for i in range(len(images)) :\n",
        "  pert_images[i] = images[i] + v[0]\n",
        "_, pert_labels = torch.max(model1(pert_images),1)"
      ],
      "metadata": {
        "id": "NTt-S_YxHgpu"
      },
      "execution_count": null,
      "outputs": []
    },
    {
      "cell_type": "code",
      "source": [
        "show_image(torchvision.utils.make_grid(pert_images))\n",
        "print(' '.join('%5s' % classes[pert_labels[j]] for j in range(5)))"
      ],
      "metadata": {
        "id": "HXXslhoIIYG2"
      },
      "execution_count": null,
      "outputs": []
    }
  ]
}